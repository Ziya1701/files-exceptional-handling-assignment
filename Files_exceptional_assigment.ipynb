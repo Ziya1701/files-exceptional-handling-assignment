{
  "nbformat": 4,
  "nbformat_minor": 0,
  "metadata": {
    "colab": {
      "provenance": []
    },
    "kernelspec": {
      "name": "python3",
      "display_name": "Python 3"
    },
    "language_info": {
      "name": "python"
    }
  },
  "cells": [
    {
      "cell_type": "markdown",
      "source": [
        "#1: What is the difference between interpreted and compiled languages\n",
        "Ans: The main difference between interpreted and compiled languages lies in how the code is executed:\n",
        "\n",
        "Compiled Languages\n",
        "Process: The entire source code is translated into machine code (binary) before the program runs, using a compiler.\n",
        "Interpreted Languages\n",
        "Process: Code is executed line-by-line or in real time by an interpreter, without converting the whole program into machine code first."
      ],
      "metadata": {
        "id": "VXnRwX6-noBN"
      }
    },
    {
      "cell_type": "markdown",
      "source": [
        "#2: What is exception handling in Python\n",
        "Ans: Exception handling in Python is a way to deal with errors that occur while your program is running—without crashing the entire program.\n",
        "\n"
      ],
      "metadata": {
        "id": "LXd4Kfe1oAKI"
      }
    },
    {
      "cell_type": "markdown",
      "source": [
        "#3: What is the purpose of the finally block in exception handling\n",
        "Ans: The block in Python exception handling is used to guarantee that certain code runs no matter what—whether an exception is raised or not."
      ],
      "metadata": {
        "id": "lk6NqGnxoJrW"
      }
    },
    {
      "cell_type": "markdown",
      "source": [
        "#4: What is logging in Python\n",
        "Ans: Logging in Python is a way to track events that happen when your program runs—like a \"black box\" that records what's going on inside your code.\n",
        "\n",
        "Instead of using print() for debugging, logging is more powerful and flexible.\n",
        "\n"
      ],
      "metadata": {
        "id": "ZuH443x4oa1M"
      }
    },
    {
      "cell_type": "markdown",
      "source": [
        "#5: What is the significance of the __del__ method in Python\n",
        "Ans: The __del__ method in Python is a special method called a destructor. It gets triggered automatically when an object is about to be destroyed—usually when it goes out of scope and is garbage collected.\n",
        "\n"
      ],
      "metadata": {
        "id": "dfyAmHZQokpV"
      }
    },
    {
      "cell_type": "markdown",
      "source": [
        "#6: What is the difference between import and from ... import in Python\n",
        "Ans: Both import and from ... import are used to bring in code from modules in Python, but they work a bit differently.\n",
        "import Statement\n",
        "This imports the entire module.\n",
        "\n",
        "You access functions or variables using dot notation\n",
        "from ... import Statement\n",
        "This imports only specific items from a module.\n",
        "\n",
        "You can use them directly, without the module name\n"
      ],
      "metadata": {
        "id": "4mk1kAM2ov-v"
      }
    },
    {
      "cell_type": "markdown",
      "source": [
        "#7: How can you handle multiple exceptions in Python\n",
        "Ans: You can handle multiple exceptions in Python in a few different ways depending on how you want to respond to them. Here’s how it works\n",
        " Multiple except Blocks\n",
        "\n",
        "try:\n",
        "    x = int(\"hello\")  # ValueError\n",
        "    y = 10 / 0         # ZeroDivisionError\n",
        "except ValueError:\n",
        "    print(\"Caught a ValueError!\")\n",
        "except ZeroDivisionError:\n",
        "    print(\"Caught a ZeroDivisionError!\")\n",
        "\n",
        "Handle Multiple Exceptions in One Block\n",
        "try:\n",
        "    something_risky()\n",
        "except (ValueError, TypeError):\n",
        "    print(\"Caught either a ValueError or a TypeError!\")\n",
        " Catch All Exceptions (Use Carefully)"
      ],
      "metadata": {
        "id": "l-S5-Dg-pK7x"
      }
    },
    {
      "cell_type": "markdown",
      "source": [
        "#8: What is the purpose of the with statement when handling files in Python\n",
        "Ans: The with statement in Python is used to simplify file handling and make your code cleaner and safer—especially when opening and working with files.\n",
        "\n"
      ],
      "metadata": {
        "id": "zWY7ikAZpqpo"
      }
    },
    {
      "cell_type": "markdown",
      "source": [
        "#9: What is the difference between multithreading and multiprocessing\n",
        "Ans: Multithreading and multiprocessing are both ways to run tasks concurrently in Python, but they work in very different ways and are useful in different situations.\n",
        "\n",
        "Multithreading\n",
        "Runs multiple threads within the same process.\n",
        "\n",
        "Threads share the same memory space.\n",
        "\n",
        "Good for I/O-bound tasks (e.g., reading/writing files, web requests).\n",
        "\n",
        "Uses the threading module in Python.\n",
        "\n",
        "Multiprocessing\n",
        "Runs multiple processes, each with its own memory space.\n",
        "\n",
        "True parallelism on multi-core systems.\n",
        "\n",
        "Great for CPU-bound tasks (e.g., data processing, image manipulation).\n",
        "\n",
        "Uses the multiprocessing module."
      ],
      "metadata": {
        "id": "02ATtyADp3qc"
      }
    },
    {
      "cell_type": "markdown",
      "source": [
        "#10:What are the advantages of using logging in a program\n",
        "Ans: Using logging in a program offers a bunch of advantages—way beyond just printing stuff to the screen. Here’s why logging is a big deal in Python (and software development in general)"
      ],
      "metadata": {
        "id": "LY7CmKnkqHGF"
      }
    },
    {
      "cell_type": "markdown",
      "source": [
        "#11:  What is memory management in Python\n",
        "Ans: Memory management in Python refers to how the Python interpreter handles the allocation and deallocation of memory during the execution of a program. Python’s memory management is largely automated, which means you don’t need to manually manage memory allocation or deallocation, but understanding how it works can still be helpful for optimizing your code.\n",
        "\n"
      ],
      "metadata": {
        "id": "nz3qu9JcqYBz"
      }
    },
    {
      "cell_type": "markdown",
      "source": [
        "#12: What are the basic steps involved in exception handling in Python\n",
        "Ans: Exception handling in Python is a way of managing errors or unexpected events that might occur during the execution of a program. Python provides a structured way to handle these exceptions using the try, except, else, and finally blocks."
      ],
      "metadata": {
        "id": "nG258xeTqkAR"
      }
    },
    {
      "cell_type": "markdown",
      "source": [
        "#13: Why is memory management important in Python\n",
        "Ans: Memory management is crucial in Python, just as it is in any programming language, because it directly impacts the efficiency, performance, and reliability of your program"
      ],
      "metadata": {
        "id": "MqzBvwLYqzK8"
      }
    },
    {
      "cell_type": "markdown",
      "source": [
        "#14: What is the role of try and except in exception handling\n",
        "Ans: In Python, the try and except blocks are used for exception handling—the process of dealing with errors that occur during the execution of a program"
      ],
      "metadata": {
        "id": "wms35wwOq9OO"
      }
    },
    {
      "cell_type": "markdown",
      "source": [
        "#15: How does Python's garbage collection system work\n",
        "Ans: Python’s garbage collection system is responsible for automatically managing memory by identifying and cleaning up objects that are no longer in use, thus preventing memory leaks and improving memory efficiency. This process is mainly handled by reference counting and cyclic garbage collection"
      ],
      "metadata": {
        "id": "0g9EzUxsrIW0"
      }
    },
    {
      "cell_type": "markdown",
      "source": [
        "#16: What is the purpose of the else block in exception handling\n",
        "Ans: In Python, the else block in exception handling serves a specific purpose: it allows you to execute code only when no exception is raised in the try block. It provides a clean way to separate the normal flow of execution from the error handling logic.\n"
      ],
      "metadata": {
        "id": "F2iOfmDUrXzi"
      }
    },
    {
      "cell_type": "markdown",
      "source": [
        "#17: What are the common logging levels in Python\n",
        "Ans: In Python, the logging module provides several predefined logging levels that help control the severity of log messages. Each level represents a different level of importance for the messages being logged."
      ],
      "metadata": {
        "id": "WgdnbgkKrg8r"
      }
    },
    {
      "cell_type": "markdown",
      "source": [
        "#18: What is the difference between os.fork() and multiprocessing in Python\n",
        "Ans: In Python, both os.fork() and the multiprocessing module are used to create child processes, but they are quite different in terms of how they work, the level of abstraction they provide, and the platforms they are suitable fo"
      ],
      "metadata": {
        "id": "1baohkYkrrYE"
      }
    },
    {
      "cell_type": "markdown",
      "source": [
        "#19: What is the importance of closing a file in Python\n",
        "Ans: Closing a file in Python is important for several reasons, as it ensures that resources are properly released and that the data is written and saved correctly"
      ],
      "metadata": {
        "id": "7HnWuDE_r2i9"
      }
    },
    {
      "cell_type": "markdown",
      "source": [
        "#20: What is the difference between file.read() and file.readline() in Python\n",
        "Ans: In Python, both file.read() and file.readline() are methods used to read the contents of a file, but they behave differently in terms of how they read the data."
      ],
      "metadata": {
        "id": "vGV2ScvBr_uQ"
      }
    },
    {
      "cell_type": "markdown",
      "source": [
        "#21: What is the logging module in Python used for\n",
        "Ans: The logging module in Python is used for generating log messages that help track the behavior and flow of a program, especially when debugging or running applications in production. It provides a flexible framework for logging messages at different severity levels, helping developers monitor and troubleshoot their programs effectively"
      ],
      "metadata": {
        "id": "DKZ6DKKfsJTE"
      }
    },
    {
      "cell_type": "markdown",
      "source": [
        "#22: What is the os module in Python used for in file handling\n",
        "Ans: The os module in Python provides a way to interact with the operating system, allowing you to perform a wide range of tasks related to file and directory handling, process management, and interacting with the underlying system. In the context of file handling, the os module offers a variety of useful functions for working with files and directories, such as creating, removing, or navigating directories, and managing file paths."
      ],
      "metadata": {
        "id": "8tMredE2sSKC"
      }
    },
    {
      "cell_type": "markdown",
      "source": [
        "#23: What are the challenges associated with memory management in Python\n",
        "Ans: Memory management in Python is an essential aspect of efficient program execution, but it also comes with several challenges. While Python’s automatic memory management system (which includes garbage collection and reference counting) simplifies memory handling for the programmer, it introduces a range of potential issues"
      ],
      "metadata": {
        "id": "3Ztwud3YsdMJ"
      }
    },
    {
      "cell_type": "markdown",
      "source": [
        "#24: How do you raise an exception manually in Python\n",
        "Ans: In Python, you can raise an exception manually using the raise keyword. This allows you to trigger an exception in your code deliberately, either with a predefined exception or a custom exception class"
      ],
      "metadata": {
        "id": "SbsVnX0QsqSM"
      }
    },
    {
      "cell_type": "markdown",
      "source": [
        "#25:  Why is it important to use multithreading in certain applications\n",
        "Ans: Multithreading is an essential technique for improving the performance and responsiveness of certain types of applications. It involves running multiple threads (smaller units of a process) concurrently, which can be particularly useful in scenarios where multiple tasks can be performed simultaneously"
      ],
      "metadata": {
        "id": "OjHVYSLFtPpH"
      }
    },
    {
      "cell_type": "markdown",
      "source": [
        "#Practical Questions"
      ],
      "metadata": {
        "id": "8ONiTKaRtjM4"
      }
    },
    {
      "cell_type": "code",
      "source": [
        "#1: How can you open a file for writing in Python and write a string to it\n",
        "# Open the file for writing (will create the file if it doesn't exist)\n",
        "with open('example.txt', 'w') as file:\n",
        "    # Write a string to the file\n",
        "    file.write(\"Hello, this is a test string!\")\n",
        "\n",
        "# The file is automatically closed after the 'with' block\n"
      ],
      "metadata": {
        "id": "OukXKR9Etpe0"
      },
      "execution_count": 7,
      "outputs": []
    },
    {
      "cell_type": "code",
      "source": [
        "#2: Write a Python program to read the contents of a file and print each line\n",
        "# Open the file in read mode\n",
        "with open('your_file.txt', 'r') as file:\n",
        "    # Iterate over each line in the file\n",
        "    for line in file:\n",
        "        # Print the line after stripping leading/trailing whitespace\n",
        "        print(line.strip())\n",
        "\n"
      ],
      "metadata": {
        "colab": {
          "base_uri": "https://localhost:8080/",
          "height": 211
        },
        "id": "n4CEFFK_t1wQ",
        "outputId": "54c4270a-4d73-40f6-dbcd-890acdcc2129"
      },
      "execution_count": 15,
      "outputs": [
        {
          "output_type": "error",
          "ename": "FileNotFoundError",
          "evalue": "[Errno 2] No such file or directory: 'your_file.txt'",
          "traceback": [
            "\u001b[0;31m---------------------------------------------------------------------------\u001b[0m",
            "\u001b[0;31mFileNotFoundError\u001b[0m                         Traceback (most recent call last)",
            "\u001b[0;32m<ipython-input-15-64c193f87491>\u001b[0m in \u001b[0;36m<cell line: 0>\u001b[0;34m()\u001b[0m\n\u001b[1;32m      1\u001b[0m \u001b[0;31m#2: Write a Python program to read the contents of a file and print each line\u001b[0m\u001b[0;34m\u001b[0m\u001b[0;34m\u001b[0m\u001b[0m\n\u001b[1;32m      2\u001b[0m \u001b[0;31m# Open the file in read mode\u001b[0m\u001b[0;34m\u001b[0m\u001b[0;34m\u001b[0m\u001b[0m\n\u001b[0;32m----> 3\u001b[0;31m \u001b[0;32mwith\u001b[0m \u001b[0mopen\u001b[0m\u001b[0;34m(\u001b[0m\u001b[0;34m'your_file.txt'\u001b[0m\u001b[0;34m,\u001b[0m \u001b[0;34m'r'\u001b[0m\u001b[0;34m)\u001b[0m \u001b[0;32mas\u001b[0m \u001b[0mfile\u001b[0m\u001b[0;34m:\u001b[0m\u001b[0;34m\u001b[0m\u001b[0;34m\u001b[0m\u001b[0m\n\u001b[0m\u001b[1;32m      4\u001b[0m     \u001b[0;31m# Iterate over each line in the file\u001b[0m\u001b[0;34m\u001b[0m\u001b[0;34m\u001b[0m\u001b[0m\n\u001b[1;32m      5\u001b[0m     \u001b[0;32mfor\u001b[0m \u001b[0mline\u001b[0m \u001b[0;32min\u001b[0m \u001b[0mfile\u001b[0m\u001b[0;34m:\u001b[0m\u001b[0;34m\u001b[0m\u001b[0;34m\u001b[0m\u001b[0m\n",
            "\u001b[0;31mFileNotFoundError\u001b[0m: [Errno 2] No such file or directory: 'your_file.txt'"
          ]
        }
      ]
    },
    {
      "cell_type": "code",
      "source": [
        "#3:  How would you handle a case where the file doesn't exist while trying to open it for reading\n",
        "try:\n",
        "    # Attempt to open the file in read mode\n",
        "    with open('example.txt', 'r') as file:\n",
        "        # If the file exists, read and print each line\n",
        "        for line in file:\n",
        "            print(line.strip())\n",
        "except FileNotFoundError:\n",
        "    # Handle the error if the file doesn't exist\n",
        "    print(\"The file 'example.txt' does not exist.\")\n"
      ],
      "metadata": {
        "colab": {
          "base_uri": "https://localhost:8080/"
        },
        "id": "I6IW7p8_t-FU",
        "outputId": "be4b1e80-9ee0-455e-fe75-ea43fec75913"
      },
      "execution_count": 5,
      "outputs": [
        {
          "output_type": "stream",
          "name": "stdout",
          "text": [
            "The file 'example.txt' does not exist.\n"
          ]
        }
      ]
    },
    {
      "cell_type": "code",
      "source": [
        "#4: Write a Python script that reads from one file and writes its content to another file\n",
        "try:\n",
        "    # Open the source file in read mode and the destination file in write mode\n",
        "    with open('source.txt', 'r') as source_file, open('destination.txt', 'w') as dest_file:\n",
        "        # Read the content of the source file and write it to the destination file\n",
        "        content = source_file.read()\n",
        "        dest_file.write(content)\n",
        "\n",
        "    print(\"File content has been successfully copied.\")\n",
        "\n",
        "except FileNotFoundError:\n",
        "    print(\"Error: The source file does not exist.\")\n",
        "except PermissionError:\n",
        "    print(\"Error: You do not have permission to read/write the files.\")\n",
        "except Exception as e:\n",
        "    print(f\"An unexpected error occurred: {e}\")\n"
      ],
      "metadata": {
        "colab": {
          "base_uri": "https://localhost:8080/"
        },
        "id": "xk_rLCPeuG1Q",
        "outputId": "cae75729-e165-4799-ea8d-6a29f80dfc5d"
      },
      "execution_count": 13,
      "outputs": [
        {
          "output_type": "stream",
          "name": "stdout",
          "text": [
            "Error: The source file does not exist.\n"
          ]
        }
      ]
    },
    {
      "cell_type": "code",
      "source": [
        "#5: How would you catch and handle division by zero error in Python\n",
        "try:\n",
        "    # Attempt to divide by zero\n",
        "    numerator = 10\n",
        "    denominator = 0\n",
        "    result = numerator / denominator\n",
        "    print(result)\n",
        "\n",
        "except ZeroDivisionError:\n",
        "    # Handle the division by zero error\n",
        "    print(\"Error: Cannot divide by zero.\")\n"
      ],
      "metadata": {
        "colab": {
          "base_uri": "https://localhost:8080/"
        },
        "id": "ryl5azRcuM4n",
        "outputId": "bef4229e-f5eb-4cd1-f7d2-c3e5f368f8da"
      },
      "execution_count": 3,
      "outputs": [
        {
          "output_type": "stream",
          "name": "stdout",
          "text": [
            "Error: Cannot divide by zero.\n"
          ]
        }
      ]
    },
    {
      "cell_type": "code",
      "source": [
        "#6: Write a Python program that logs an error message to a log file when a division by zero exception occurs\n",
        "import logging\n",
        "\n",
        "# Set up logging configuration\n",
        "logging.basicConfig(\n",
        "    filename='error_log.txt',  # Log file name\n",
        "    level=logging.ERROR,       # Log level to capture errors\n",
        "    format='%(asctime)s - %(levelname)s - %(message)s'  # Log format\n",
        ")\n",
        "\n",
        "try:\n",
        "    # Example division by zero\n",
        "    numerator = 10\n",
        "    denominator = 0\n",
        "    result = numerator / denominator\n",
        "    print(result)\n",
        "\n",
        "except ZeroDivisionError as e:\n",
        "    # Log the error message with the exception details\n",
        "    logging.error(\"Division by zero error: %s\", e)\n",
        "\n",
        "print(\"Error logged successfully.\")\n"
      ],
      "metadata": {
        "colab": {
          "base_uri": "https://localhost:8080/"
        },
        "id": "Ct5PcjE1udf3",
        "outputId": "c3995e9d-6be0-461b-c655-9722604b4c92"
      },
      "execution_count": 2,
      "outputs": [
        {
          "output_type": "stream",
          "name": "stderr",
          "text": [
            "ERROR:root:Division by zero error: division by zero\n"
          ]
        },
        {
          "output_type": "stream",
          "name": "stdout",
          "text": [
            "Error logged successfully.\n"
          ]
        }
      ]
    },
    {
      "cell_type": "code",
      "source": [
        "#7: How do you log information at different levels (INFO, ERROR, WARNING) in Python using the logging module\n",
        "import logging\n",
        "\n",
        "# Set up logging configuration\n",
        "logging.basicConfig(\n",
        "    filename='app_log.txt',       # Log messages will be saved to this file\n",
        "    level=logging.DEBUG,          # Set the root logger level to DEBUG to capture all levels\n",
        "    format='%(asctime)s - %(levelname)s - %(message)s'  # Log format with timestamp and log level\n",
        ")\n",
        "\n",
        "# Log messages at various levels\n",
        "logging.debug(\"This is a debug message.\")\n",
        "logging.info(\"This is an informational message.\")\n",
        "logging.warning(\"This is a warning message.\")\n",
        "logging.error(\"This is an error message.\")\n",
        "logging.critical(\"This is a critical error message.\")\n"
      ],
      "metadata": {
        "colab": {
          "base_uri": "https://localhost:8080/"
        },
        "id": "GYLr7odguoA6",
        "outputId": "df390241-36cf-4087-cf56-4ea6caae1142"
      },
      "execution_count": 1,
      "outputs": [
        {
          "output_type": "stream",
          "name": "stderr",
          "text": [
            "WARNING:root:This is a warning message.\n",
            "ERROR:root:This is an error message.\n",
            "CRITICAL:root:This is a critical error message.\n"
          ]
        }
      ]
    },
    {
      "cell_type": "code",
      "source": [
        "#8: Write a program to handle a file opening error using exception handling\n",
        "try:\n",
        "    # Attempt to open a file in read mode\n",
        "    file_name = 'example.txt'\n",
        "    with open(file_name, 'r') as file:\n",
        "        # If file opens successfully, read and print its content\n",
        "        content = file.read()\n",
        "        print(content)\n",
        "\n",
        "except FileNotFoundError:\n",
        "    # Handle the case when the file does not exist\n",
        "    print(f\"Error: The file '{file_name}' was not found.\")\n",
        "\n",
        "except PermissionError:\n",
        "    # Handle the case when the file cannot be accessed due to permission issues\n",
        "    print(f\"Error: You do not have permission to open the file '{file_name}'.\")\n",
        "\n",
        "except Exception as e:\n",
        "    # Catch any other unexpected exceptions and print the error message\n",
        "    print(f\"An unexpected error occurred: {e}\")\n"
      ],
      "metadata": {
        "colab": {
          "base_uri": "https://localhost:8080/"
        },
        "id": "sBFE8LKzvG36",
        "outputId": "4c90b492-f75e-4bb8-9039-cc2e2921bc1f"
      },
      "execution_count": 12,
      "outputs": [
        {
          "output_type": "stream",
          "name": "stdout",
          "text": [
            "Hello, this is a test string!\n"
          ]
        }
      ]
    },
    {
      "cell_type": "code",
      "source": [
        "#9: How would you check if a file exists before attempting to read it in Python\n",
        "import os\n",
        "\n",
        "file_path = 'your_file.txt'\n",
        "\n",
        "if os.path.exists(file_path):\n",
        "    with open(file_path, 'r') as file:\n",
        "        for line in file:\n",
        "            print(line.strip())\n",
        "else:\n",
        "    print(f\"The file {file_path} does not exist.\")\n"
      ],
      "metadata": {
        "colab": {
          "base_uri": "https://localhost:8080/"
        },
        "id": "ACItdAGmw2A6",
        "outputId": "65deda8e-c064-4976-e19a-3e1a841b1e7b"
      },
      "execution_count": 16,
      "outputs": [
        {
          "output_type": "stream",
          "name": "stdout",
          "text": [
            "The file your_file.txt does not exist.\n"
          ]
        }
      ]
    },
    {
      "cell_type": "code",
      "source": [
        "#10: How can you append data to an existing file in Python\n",
        "# Open the file in append mode\n",
        "with open('your_file.txt', 'a') as file:\n",
        "    file.write(\"This is the new line to append.\\n\")\n"
      ],
      "metadata": {
        "id": "NLqcj5rkxFES"
      },
      "execution_count": 17,
      "outputs": []
    },
    {
      "cell_type": "code",
      "source": [
        "#11: How can you read a file line by line and store its content in a list in Python\n",
        "# Open the file in read mode and read lines into a list\n",
        "with open('your_file.txt', 'r') as file:\n",
        "    lines = [line.rstrip('\\n') for line in file]\n",
        "\n",
        "# Display the list of lines\n",
        "print(lines)\n"
      ],
      "metadata": {
        "colab": {
          "base_uri": "https://localhost:8080/"
        },
        "id": "5gvDFUfZxSVs",
        "outputId": "7d45a646-6d29-446b-f9f1-57d209107632"
      },
      "execution_count": 18,
      "outputs": [
        {
          "output_type": "stream",
          "name": "stdout",
          "text": [
            "['This is the new line to append.']\n"
          ]
        }
      ]
    },
    {
      "cell_type": "code",
      "source": [
        "#12: Write a Python program that uses a try-except block to handle an error when attempting to access a\n",
        "# dictionary key that doesn't exist\n",
        "# Define a dictionary with some key-value pairs\n",
        "student_grades = {\n",
        "    'Alice': 'A',\n",
        "    'Bob': 'B',\n",
        "    'Charlie': 'C'\n",
        "}\n",
        "\n",
        "# Key to search for\n",
        "key_to_search = 'David'\n",
        "\n",
        "try:\n",
        "    # Attempt to access the value for the given key\n",
        "    grade = student_grades[key_to_search]\n",
        "    print(f\"{key_to_search}'s grade is {grade}.\")\n",
        "except KeyError:\n",
        "    # Handle the case where the key doesn't exist\n",
        "    print(f\"Error: '{key_to_search}' not found in the dictionary.\")\n"
      ],
      "metadata": {
        "colab": {
          "base_uri": "https://localhost:8080/"
        },
        "id": "CX64auhZxdJ4",
        "outputId": "048e4558-c2ea-45bb-b0d2-fa965cd1e6e6"
      },
      "execution_count": 19,
      "outputs": [
        {
          "output_type": "stream",
          "name": "stdout",
          "text": [
            "Error: 'David' not found in the dictionary.\n"
          ]
        }
      ]
    },
    {
      "cell_type": "code",
      "source": [
        "#13: Write a program that demonstrates using multiple except blocks to handle different types of exceptions\n",
        "def divide_numbers():\n",
        "    try:\n",
        "        # Prompt user for input\n",
        "        num1 = int(input(\"Enter the numerator: \"))\n",
        "        num2 = int(input(\"Enter the denominator: \"))\n",
        "\n",
        "        # Perform division\n",
        "        result = num1 / num2\n",
        "        print(f\"The result of {num1} divided by {num2} is {result}\")\n",
        "\n",
        "    except ValueError:\n",
        "        print(\"Error: Please enter valid integers.\")\n",
        "    except ZeroDivisionError:\n",
        "        print(\"Error: Cannot divide by zero.\")\n",
        "    except Exception as e:\n",
        "        print(f\"An unexpected error occurred: {e}\")\n",
        "\n",
        "# Call the function\n",
        "divide_numbers()\n"
      ],
      "metadata": {
        "id": "mSwL8H4HxsWf"
      },
      "execution_count": null,
      "outputs": []
    },
    {
      "cell_type": "code",
      "source": [
        "#14: Write a program that uses the logging module to log both informational and error messages\n",
        "import logging\n",
        "\n",
        "# Configure the logging system\n",
        "logging.basicConfig(\n",
        "    level=logging.DEBUG,\n",
        "    format='%(asctime)s - %(levelname)s - %(message)s',\n",
        "    datefmt='%Y-%m-%d %H:%M:%S'\n",
        ")\n",
        "\n",
        "# Log an informational message\n",
        "logging.info(\"Application started successfully.\")\n",
        "\n",
        "try:\n",
        "    # Simulate an operation that could raise an exception\n",
        "    result = 10 / 0\n",
        "except ZeroDivisionError as e:\n",
        "    # Log the error with exception details\n",
        "    logging.error(\"An error occurred: %s\", e, exc_info=True)\n"
      ],
      "metadata": {
        "id": "LwpiPB44x2rS"
      },
      "execution_count": null,
      "outputs": []
    },
    {
      "cell_type": "code",
      "source": [
        "#15: Write a Python program that prints the content of a file and handles the case when the file is empty\n",
        "import os\n",
        "\n",
        "def read_file(file_path):\n",
        "    \"\"\"Reads and prints the contents of a file, handling empty files.\"\"\"\n",
        "    try:\n",
        "        # Check if the file exists\n",
        "        if not os.path.exists(file_path):\n",
        "            print(\"Error: The file does not exist.\")\n",
        "            return\n",
        "\n",
        "        # Check if the file is empty\n",
        "        if os.path.getsize(file_path) == 0:\n",
        "            print(\"The file is empty.\")\n",
        "            return\n",
        "\n",
        "        # Open and read the file\n",
        "        with open(file_path, 'r') as file:\n",
        "            content = file.read()\n",
        "            print(\"File contents:\")\n",
        "            print(content)\n",
        "\n",
        "    except Exception as e:\n",
        "        print(f\"An error occurred: {e}\")\n",
        "\n",
        "# Example usage\n",
        "file_path = 'example.txt'\n",
        "read_file(file_path)\n"
      ],
      "metadata": {
        "id": "vQyYhzDTyArY"
      },
      "execution_count": null,
      "outputs": []
    },
    {
      "cell_type": "code",
      "source": [
        "#16: Demonstrate how to use memory profiling to check the memory usage of a small program\n",
        "from memory_profiler import profile\n",
        "\n",
        "@profile\n",
        "def my_function():\n",
        "    a = [1] * (10 ** 6)  # Create a list with 1 million elements\n",
        "    b = [2] * (2 * 10 ** 7)  # Create a list with 20 million elements\n",
        "    del b  # Delete the second list to free memory\n",
        "    return a\n",
        "\n",
        "if __name__ == '__main__':\n",
        "    my_function()\n"
      ],
      "metadata": {
        "id": "OxU-JA_KyJXO"
      },
      "execution_count": null,
      "outputs": []
    },
    {
      "cell_type": "code",
      "source": [
        "#17: Write a Python program to create and write a list of numbers to a file, one number per line\n",
        "# Define a list of numbers\n",
        "numbers = [1, 2, 3, 4, 5]\n",
        "\n",
        "# Open the file in write mode\n",
        "with open('numbers.txt', 'w') as file:\n",
        "    # Write each number to the file on a new line\n",
        "    for number in numbers:\n",
        "        file.write(f\"{number}\\n\")\n"
      ],
      "metadata": {
        "id": "CZk_7fzTyNOb"
      },
      "execution_count": null,
      "outputs": []
    },
    {
      "cell_type": "code",
      "source": [
        "#18:  How would you implement a basic logging setup that logs to a file with rotation after 1MB\n",
        "import logging\n",
        "from logging.handlers import RotatingFileHandler\n",
        "\n",
        "# Set up a rotating file handler\n",
        "handler = RotatingFileHandler('app.log', maxBytes=1e6, backupCount=3)  # 1MB = 1e6 bytes\n",
        "handler.setLevel(logging.INFO)\n",
        "\n",
        "# Create a formatter and set it for the handler\n",
        "formatter = logging.Formatter('%(asctime)s - %(levelname)s - %(message)s')\n",
        "handler.setFormatter(formatter)\n",
        "\n",
        "# Get the root logger and add the handler to it\n",
        "logging.getLogger().addHandler(handler)\n",
        "\n",
        "# Example usage\n",
        "logging.info(\"This is an informational message.\")\n",
        "logging.error(\"This is an error message.\")\n"
      ],
      "metadata": {
        "id": "ASLVi9Q0ybig"
      },
      "execution_count": null,
      "outputs": []
    },
    {
      "cell_type": "code",
      "source": [
        "#19: Write a program that handles both IndexError and KeyError using a try-except block\n",
        "# Sample data\n",
        "my_list = [10, 20, 30]\n",
        "my_dict = {'a': 1, 'b': 2}\n",
        "\n",
        "# Try to access an invalid index and key\n",
        "try:\n",
        "    # Attempting to access an invalid index in the list\n",
        "    print(my_list[5])\n",
        "except IndexError as e:\n",
        "    print(f\"IndexError: {e}\")\n",
        "\n",
        "try:\n",
        "    # Attempting to access a non-existent key in the dictionary\n",
        "    print(my_dict['c'])\n",
        "except KeyError as e:\n",
        "    print(f\"KeyError: {e}\")\n"
      ],
      "metadata": {
        "id": "SyXwVGjVylD5"
      },
      "execution_count": null,
      "outputs": []
    },
    {
      "cell_type": "code",
      "source": [
        "#20:  How would you open a file and read its contents using a context manager in Python\n",
        "# Using a context manager to read a file line by line\n",
        "with open(\"example.txt\", \"r\") as file:\n",
        "    for line in file:\n",
        "        print(line.strip())\n"
      ],
      "metadata": {
        "id": "IbMbBJWwyvGS"
      },
      "execution_count": null,
      "outputs": []
    },
    {
      "cell_type": "code",
      "source": [
        "#21: Write a Python program that reads a file and prints the number of occurrences of a specific word\n",
        "import string\n",
        "\n",
        "def count_word_in_file(file_path, target_word):\n",
        "    \"\"\"Counts the occurrences of a specific word in a file.\"\"\"\n",
        "    try:\n",
        "        with open(file_path, 'r') as file:\n",
        "            content = file.read().lower()\n",
        "            # Remove punctuation from the content\n",
        "            content = content.translate(str.maketrans('', '', string.punctuation))\n",
        "            word_count = content.split().count(target_word.lower())\n",
        "        return word_count\n",
        "    except FileNotFoundError:\n",
        "        print(f\"Error: The file '{file_path}' was not found.\")\n",
        "        return 0\n",
        "\n",
        "# Example usage\n",
        "file_path = 'example.txt'  # Replace with your file path\n",
        "word_to_count = 'python'   # Replace with the word you want to count\n",
        "\n",
        "count = count_word_in_file(file_path, word_to_count)\n",
        "if count > 0:\n",
        "    print(f\"The word '{word_to_count}' appears {count} times in the file.\")\n",
        "else:\n",
        "    print(f\"The word '{word_to_count}' was not found in the file.\")\n"
      ],
      "metadata": {
        "id": "IGrLCOoey6KX"
      },
      "execution_count": null,
      "outputs": []
    },
    {
      "cell_type": "code",
      "source": [
        "#22: How can you check if a file is empty before attempting to read its contents\n",
        "import os\n",
        "\n",
        "file_path = 'example.txt'  # Replace with your file path\n",
        "\n",
        "if os.path.exists(file_path):\n",
        "    if os.path.getsize(file_path) == 0:\n",
        "        print(\"The file is empty.\")\n",
        "    else:\n",
        "        with open(file_path, 'r') as file:\n",
        "            content = file.read()\n",
        "            print(\"File content:\")\n",
        "            print(content)\n",
        "else:\n",
        "    print(\"The file does not exist.\")\n"
      ],
      "metadata": {
        "id": "qTCNn2oDzYLc"
      },
      "execution_count": null,
      "outputs": []
    },
    {
      "cell_type": "code",
      "source": [
        "#23: F Write a Python program that writes to a log file when an error occurs during file handling\n",
        "import logging\n",
        "\n",
        "# Configure logging\n",
        "logging.basicConfig(\n",
        "    filename='file_operations.log',\n",
        "    level=logging.ERROR,\n",
        "    format='%(asctime)s - %(levelname)s - %(message)s'\n",
        ")\n",
        "\n",
        "def read_file(file_path):\n",
        "    \"\"\"Reads the contents of a file.\"\"\"\n",
        "    try:\n",
        "        with open(file_path, 'r') as file:\n",
        "            return file.read()\n",
        "    except Exception as e:\n",
        "        logging.error(f\"Failed to read file '{file_path}': {e}\")\n",
        "        return None\n",
        "\n",
        "def write_to_file(file_path, content):\n",
        "    \"\"\"Writes content to a file.\"\"\"\n",
        "    try:\n",
        "        with open(file_path, 'w') as file:\n",
        "            file.write(content)\n",
        "    except Exception as e:\n",
        "        logging.error(f\"Failed to write to file '{file_path}': {e}\")\n",
        "\n",
        "# Example usage\n",
        "file_path = 'example.txt'\n",
        "content = \"Hello, world!\"\n",
        "\n",
        "write_to_file(file_path, content)\n",
        "file_content = read_file(file_path)\n",
        "if file_content:\n",
        "    print(file_content)\n"
      ],
      "metadata": {
        "id": "rwzLQ7ZYzhJL"
      },
      "execution_count": null,
      "outputs": []
    }
  ]
}